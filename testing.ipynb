{
 "cells": [
  {
   "cell_type": "code",
   "execution_count": 2,
   "id": "initial_id",
   "metadata": {
    "collapsed": true,
    "ExecuteTime": {
     "end_time": "2024-07-10T16:24:57.855495Z",
     "start_time": "2024-07-10T16:24:57.853343Z"
    }
   },
   "outputs": [],
   "source": [
    "import re"
   ]
  },
  {
   "cell_type": "code",
   "outputs": [],
   "source": [
    "first = [\"Python\", \"Django\", \"Django ORM\", \"Celery\", \"Kubernetes\", \"Postgres\", \"Redis\"]\n",
    "second = [\"Зайнятість: Неповна / Парт-тайм\"]"
   ],
   "metadata": {
    "collapsed": false,
    "ExecuteTime": {
     "end_time": "2024-07-10T16:27:56.487387Z",
     "start_time": "2024-07-10T16:27:56.484773Z"
    }
   },
   "id": "1b7a126fd25a0902",
   "execution_count": 11
  },
  {
   "cell_type": "code",
   "outputs": [
    {
     "data": {
      "text/plain": "['Python', 'Django', 'Django ORM', 'Celery', 'Kubernetes', 'Postgres', 'Redis']"
     },
     "execution_count": 22,
     "metadata": {},
     "output_type": "execute_result"
    }
   ],
   "source": [
    "def cleaning(list_of_skills: list[str]):\n",
    "    pattern = re.compile(r\"[^a-zA-Z0-9.,;:?!'\\\"()\\[\\]{}<>@#$%^&*_+=|\\\\/-]\")\n",
    "    result = []\n",
    "    for skill in list_of_skills:\n",
    "        if skill == pattern.sub(\" \", skill):\n",
    "            result.append(skill)\n",
    "        else:\n",
    "            return []\n",
    "    return result\n",
    "\n",
    "cleaning(first)"
   ],
   "metadata": {
    "collapsed": false,
    "ExecuteTime": {
     "end_time": "2024-07-10T16:40:39.165795Z",
     "start_time": "2024-07-10T16:40:39.161274Z"
    }
   },
   "id": "d584f19d14e8b9db",
   "execution_count": 22
  }
 ],
 "metadata": {
  "kernelspec": {
   "display_name": "Python 3",
   "language": "python",
   "name": "python3"
  },
  "language_info": {
   "codemirror_mode": {
    "name": "ipython",
    "version": 2
   },
   "file_extension": ".py",
   "mimetype": "text/x-python",
   "name": "python",
   "nbconvert_exporter": "python",
   "pygments_lexer": "ipython2",
   "version": "2.7.6"
  }
 },
 "nbformat": 4,
 "nbformat_minor": 5
}
